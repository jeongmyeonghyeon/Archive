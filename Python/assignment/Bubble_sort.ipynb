{
 "cells": [
  {
   "cell_type": "code",
   "execution_count": 55,
   "metadata": {},
   "outputs": [
    {
     "name": "stdout",
     "output_type": "stream",
     "text": [
      "min_index: 0\n",
      "next_index: 1\n",
      "min_index: 1\n",
      "next_index: 2\n"
     ]
    }
   ],
   "source": [
    "# 실패01\n",
    "b_list = [55, 7]#, 78, 12, 42]\n",
    "\n",
    "for i in b_list:\n",
    "#     print(i)\n",
    "#     print(b_list.index(i))\n",
    "    min_index = b_list.index(i)\n",
    "    print(\"min_index: {}\".format(min_index))\n",
    "    next_index = min_index + 1\n",
    "    print(\"next_index: {}\".format(next_index))\n",
    "    min_value = b_list[min_index]\n",
    "#     if b_list[next_index] < b_list[min_index]:\n",
    "#         min_value = b_list[next_index]\n",
    "#         tmp = b_list[min_index]\n",
    "#         b_list[min_index] = min_value\n",
    "#         b_list[next_index] = tmp\n",
    "#     else:\n",
    "#         pass"
   ]
  },
  {
   "cell_type": "code",
   "execution_count": 56,
   "metadata": {},
   "outputs": [
    {
     "data": {
      "text/plain": [
       "[7, 55, 12, 42, 78]"
      ]
     },
     "execution_count": 56,
     "metadata": {},
     "output_type": "execute_result"
    }
   ],
   "source": [
    "# 실패02\n",
    "b_list = [55, 7, 78, 12, 42]\n",
    "\n",
    "for i in b_list:\n",
    "    b_list_len = len(b_list) # range 에러 제어를 위한 리스트 크기\n",
    "    min_index = b_list.index(i)\n",
    "    next_index = min_index + 1\n",
    "    min_value = b_list[min_index]\n",
    "    if next_index != b_list_len:\n",
    "        if b_list[next_index] < b_list[min_index]:\n",
    "            min_value = b_list[next_index]\n",
    "            b_list[next_index] = b_list[min_index]\n",
    "            b_list[min_index] = min_value\n",
    "    else:\n",
    "        break\n",
    "b_list"
   ]
  },
  {
   "cell_type": "code",
   "execution_count": 57,
   "metadata": {},
   "outputs": [
    {
     "ename": "IndexError",
     "evalue": "list index out of range",
     "traceback": [
      "\u001b[0;31m---------------------------------------------------------------------------\u001b[0m",
      "\u001b[0;31mIndexError\u001b[0m                                Traceback (most recent call last)",
      "\u001b[0;32m<ipython-input-57-1c6bfc0e79f5>\u001b[0m in \u001b[0;36m<module>\u001b[0;34m()\u001b[0m\n\u001b[1;32m      9\u001b[0m         \u001b[0mcount\u001b[0m \u001b[0;34m=\u001b[0m \u001b[0;36m0\u001b[0m\u001b[0;34m\u001b[0m\u001b[0m\n\u001b[1;32m     10\u001b[0m         \u001b[0;32mif\u001b[0m \u001b[0mcount\u001b[0m \u001b[0;34m!=\u001b[0m \u001b[0mb_list_len\u001b[0m\u001b[0;34m:\u001b[0m\u001b[0;34m\u001b[0m\u001b[0m\n\u001b[0;32m---> 11\u001b[0;31m             \u001b[0;32mif\u001b[0m \u001b[0;34m(\u001b[0m\u001b[0mb_list\u001b[0m\u001b[0;34m[\u001b[0m\u001b[0mnext_index\u001b[0m\u001b[0;34m]\u001b[0m \u001b[0;34m<\u001b[0m \u001b[0mb_list\u001b[0m\u001b[0;34m[\u001b[0m\u001b[0mmin_index\u001b[0m\u001b[0;34m]\u001b[0m\u001b[0;34m)\u001b[0m\u001b[0;34m:\u001b[0m\u001b[0;34m\u001b[0m\u001b[0m\n\u001b[0m\u001b[1;32m     12\u001b[0m                 \u001b[0mmin_value\u001b[0m \u001b[0;34m=\u001b[0m \u001b[0mb_list\u001b[0m\u001b[0;34m[\u001b[0m\u001b[0mnext_index\u001b[0m\u001b[0;34m]\u001b[0m\u001b[0;34m\u001b[0m\u001b[0m\n\u001b[1;32m     13\u001b[0m                 \u001b[0mb_list\u001b[0m\u001b[0;34m[\u001b[0m\u001b[0mnext_index\u001b[0m\u001b[0;34m]\u001b[0m \u001b[0;34m=\u001b[0m \u001b[0mb_list\u001b[0m\u001b[0;34m[\u001b[0m\u001b[0mmin_index\u001b[0m\u001b[0;34m]\u001b[0m\u001b[0;34m\u001b[0m\u001b[0m\n",
      "\u001b[0;31mIndexError\u001b[0m: list index out of range"
     ],
     "output_type": "error"
    }
   ],
   "source": [
    "# 실패03\n",
    "b_list = [55, 7, 78, 12, 42]\n",
    "\n",
    "for i in b_list:\n",
    "    b_list_len = len(b_list) # range 에러 제어를 위한 리스트 크기\n",
    "    for x in range(b_list_len):\n",
    "        min_index = b_list.index(i)\n",
    "        next_index = min_index + 1\n",
    "        min_value = b_list[min_index]\n",
    "        count = 0\n",
    "        if count != b_list_len:\n",
    "            if (next_index != b_list_len) and (b_list[next_index] < b_list[min_index]):\n",
    "                min_value = b_list[next_index]\n",
    "                b_list[next_index] = b_list[min_index]\n",
    "                b_list[min_index] = min_value\n",
    "                count += 1\n",
    "\n",
    "b_list"
   ]
  },
  {
   "cell_type": "code",
   "execution_count": 58,
   "metadata": {},
   "outputs": [
    {
     "name": "stdout",
     "output_type": "stream",
     "text": [
      "5\n"
     ]
    },
    {
     "data": {
      "text/plain": [
       "[5, 7, 12, 42, 55, 78]"
      ]
     },
     "execution_count": 58,
     "metadata": {},
     "output_type": "execute_result"
    }
   ],
   "source": [
    "def bubbleSort(x):\n",
    "    length = len(x)-1\n",
    "    for i in range(length):\n",
    "        for j in range(length-i):\n",
    "            if x[j] > x[j+1]:\n",
    "                x[j], x[j+1] = x[j+1], x[j]\n",
    "    return x\n",
    "\n",
    "b_list = [55, 7, 78, 12, 42, 5]\n",
    "bubbleSort(b_list)"
   ]
  },
  {
   "cell_type": "code",
   "execution_count": null,
   "metadata": {
    "collapsed": true
   },
   "outputs": [],
   "source": [
    "# 일단 함수로 선언한게 다르고, -.-;\n",
    "# list index out of range를 저렇게 간단하게 처리한게 다르고,\n",
    "# 두 번째 for문 에서도 리스트 마지막 인덱스값 까지의 비교를 Index error 안뜨게 저렇게 처리한게 다르고...\n",
    "# 값 서로 교환해줄 때 한번에 x[j], x[j+1] = x[j+1], x[j] 바꾸는게 다르다.\n",
    "# ...\n",
    "# 소요시간: 1시간 30분, 못풀었음"
   ]
  }
 ],
 "metadata": {
  "kernelspec": {
   "display_name": "Python 3",
   "language": "python",
   "name": "python3"
  },
  "language_info": {
   "codemirror_mode": {
    "name": "ipython",
    "version": 3.0
   },
   "file_extension": ".py",
   "mimetype": "text/x-python",
   "name": "python",
   "nbconvert_exporter": "python",
   "pygments_lexer": "ipython3",
   "version": "3.5.3"
  }
 },
 "nbformat": 4,
 "nbformat_minor": 0
}